{
 "cells": [
  {
   "cell_type": "markdown",
   "metadata": {
    "deletable": true,
    "editable": true
   },
   "source": [
    "# Notebook implementing the van Hees algorithm on some SPHERE wearable data"
   ]
  },
  {
   "cell_type": "markdown",
   "metadata": {
    "deletable": true,
    "editable": true
   },
   "source": [
    "Notes (todos):\n",
    "\n",
    "- [x] Implemented van Hees algorithm\n",
    "- [x] Use house plate\n",
    "- [ ] Use wearable plate\n",
    "- [ ] Remove duplicates"
   ]
  },
  {
   "cell_type": "code",
   "execution_count": 1,
   "metadata": {
    "collapsed": true,
    "deletable": true,
    "editable": true
   },
   "outputs": [],
   "source": [
    "from hyperstream import HyperStream, StreamId, TimeInterval, TimeIntervals, StreamInstanceCollection\n",
    "\n",
    "import os\n",
    "from datetime import timedelta, datetime\n",
    "from dateutil.parser import parse\n",
    "import pandas as pd\n",
    "import matplotlib.pyplot as plt \n",
    "% matplotlib inline \n",
    "import numpy as np\n",
    "import logging"
   ]
  },
  {
   "cell_type": "code",
   "execution_count": 2,
   "metadata": {
    "collapsed": false,
    "deletable": true,
    "editable": true
   },
   "outputs": [],
   "source": [
    "try:\n",
    "    changed_directory\n",
    "except NameError:\n",
    "    os.chdir(\"..\")\n",
    "    changed_directory = True"
   ]
  },
  {
   "cell_type": "code",
   "execution_count": 3,
   "metadata": {
    "collapsed": false,
    "deletable": true,
    "editable": true,
    "scrolled": false
   },
   "outputs": [],
   "source": [
    "hs = HyperStream(loglevel=logging.WARN)\n",
    "\n",
    "S = hs.channel_manager.sphere\n",
    "M = hs.channel_manager.memory\n",
    "T = hs.channel_manager.tools\n",
    "D = hs.channel_manager.mongo\n",
    "\n",
    "house_plate = hs.plate_manager.plates[\"H\"]\n",
    "house_1 = ((\"house\", \"1\"), )"
   ]
  },
  {
   "cell_type": "markdown",
   "metadata": {
    "deletable": true,
    "editable": true
   },
   "source": [
    "## Here are the functions that will be used to calculate the arm angles and subsequently calculate inactivity periods"
   ]
  },
  {
   "cell_type": "code",
   "execution_count": 4,
   "metadata": {
    "collapsed": false,
    "deletable": true,
    "editable": true
   },
   "outputs": [],
   "source": [
    "# Next, estimated arm angles were averaged per 5 second epoch, \n",
    "# and used to assess change in arm angle between successive 5 second epochs. \n",
    "# Periods of time during which there was no change larger than 5° over at least \n",
    "# 5 minutes were classified as bouts of sustained inactivity, or potential sleep periods. \n",
    "\n",
    "def arm_angle_average(data):\n",
    "    data = list(data)\n",
    "    if len(data) == 0:\n",
    "        return None\n",
    "    v = [dict(x=d[1][0], y=d[1][1], z=d[1][2]) for d in data]\n",
    "    i = map(lambda d: d[0], data)\n",
    "    df = pd.DataFrame(v, index=i)\n",
    "    df.dropna(inplace=True)\n",
    "    df['angle'] = 180 / np.pi * np.arctan(df['z'] / np.sqrt(np.square(df['x']) + np.square(df['y'])))\n",
    "    return df['angle'].mean()\n",
    "\n",
    "\n",
    "def inactivity_detector(data):\n",
    "    data = list(data)\n",
    "    if len(data) == 0:\n",
    "        return None\n",
    "    return max(abs(np.diff([d.value for d in data]))) < 5\n",
    "    "
   ]
  },
  {
   "cell_type": "markdown",
   "metadata": {
    "deletable": true,
    "editable": true
   },
   "source": [
    "## Defining some tools"
   ]
  },
  {
   "cell_type": "code",
   "execution_count": 5,
   "metadata": {
    "collapsed": false,
    "deletable": true,
    "editable": true
   },
   "outputs": [],
   "source": [
    "# Tool to get sphere wearable data\n",
    "sphere_tool         = hs.channel_manager.get_tool(\"sphere\",         dict(modality=\"wearable\"))\n",
    "\n",
    "# Tool to extract acceleration data from wearable stream\n",
    "component_xl1       = hs.channel_manager.get_tool(\"component\",      dict(key=\"wearable-xl1\"))\n",
    "\n",
    "# 5 second sliding window tool\n",
    "sliding_window_5    = hs.channel_manager.get_tool(\"sliding_window\", dict(lower=-5, increment=5))\n",
    "\n",
    "# Tool to apply arm angle average function inside sliding window\n",
    "sliding_apply_arm   = hs.channel_manager.get_tool(\"sliding_apply\",  dict(func=arm_angle_average))\n",
    "\n",
    "# 300 second sliding window tool\n",
    "sliding_window_300  = hs.channel_manager.get_tool(\"sliding_window\", dict(lower=-300, increment=300))\n",
    "\n",
    "# Tool to apply inactivity detector inside sliding window\n",
    "sliding_apply_inact = hs.channel_manager.get_tool(\"sliding_apply\",  dict(func=inactivity_detector))"
   ]
  },
  {
   "cell_type": "markdown",
   "metadata": {
    "deletable": true,
    "editable": true
   },
   "source": [
    "## Defining some streams"
   ]
  },
  {
   "cell_type": "code",
   "execution_count": 6,
   "metadata": {
    "collapsed": false,
    "deletable": true,
    "editable": true
   },
   "outputs": [],
   "source": [
    "# Stream for wearable data\n",
    "wearable     = S.get_or_create_stream(StreamId(\"wearable\", meta_data=house_1))\n",
    "\n",
    "# Stream for wearable acceleration data\n",
    "wearable_xl1 = M.get_or_create_stream(StreamId(\"wearable_xl1\", meta_data=house_1))\n",
    "\n",
    "# Stream for 5 second window\n",
    "window_5     = M.get_or_create_stream(StreamId(\"window_5\"))\n",
    "\n",
    "# Stream for 300 second window\n",
    "window_300   = M.get_or_create_stream(StreamId(\"window_300\"))\n",
    "\n",
    "# Stream for arm angle in 5 second windows\n",
    "arm_angle    = M.get_or_create_stream(StreamId(\"arm_angle\", meta_data=house_1))\n",
    "\n",
    "# Stream for inactivity detecions in 300 second windows\n",
    "inactivity   = M.get_or_create_stream(StreamId(\"inactivity\", meta_data=house_1))\n"
   ]
  },
  {
   "cell_type": "markdown",
   "metadata": {
    "deletable": true,
    "editable": true
   },
   "source": [
    "## Set a time interval for processing - using a small chunk of data for now"
   ]
  },
  {
   "cell_type": "code",
   "execution_count": 7,
   "metadata": {
    "collapsed": false,
    "deletable": true,
    "editable": true
   },
   "outputs": [],
   "source": [
    "start = parse(\"2017-04-25T22:35:00Z\")\n",
    "end = start + timedelta(seconds=1200)\n",
    "\n",
    "ti = TimeInterval(start, end)"
   ]
  },
  {
   "cell_type": "markdown",
   "metadata": {
    "deletable": true,
    "editable": true
   },
   "source": [
    "## Use the SPHERE tool to pull the wearable data down, and then the component tool to select out the wearable data"
   ]
  },
  {
   "cell_type": "code",
   "execution_count": 8,
   "metadata": {
    "collapsed": false,
    "deletable": true,
    "editable": true
   },
   "outputs": [
    {
     "name": "stderr",
     "output_type": "stream",
     "text": [
      "2017-07-11 17:35:03,112 [WARNI]  KeyError: Modality monitoring missing from config\n",
      "100%|██████████| 9287/9287 [00:02<00:00, 3782.46it/s]\n",
      "2017-07-11 17:35:31,695 [WARNI]  Stream wearable: [house=1] not available for time interval (2017-04-25 22:35:00+00:00, 2017-04-25 22:55:00+00:00]. Perhaps upstream calculations haven't been performed\n"
     ]
    },
    {
     "name": "stdout",
     "output_type": "stream",
     "text": [
      "Raw wearable data\n"
     ]
    },
    {
     "name": "stderr",
     "output_type": "stream",
     "text": [
      "2017-07-11 17:35:36,043 [WARNI]  Stream wearable: [house=1] not available for time interval (2017-04-25 22:35:00+00:00, 2017-04-25 22:55:00+00:00]. Perhaps upstream calculations haven't been performed\n"
     ]
    },
    {
     "name": "stdout",
     "output_type": "stream",
     "text": [
      "{'wearable-rss': -75.0, 'uid': u'a0:e6:f8:00:00:c1', 'wearable-xl1': array([-0.672, -0.48 ,  0.48 ]), 'aid': u'fd00::212:4b00:0:4', 'wearable-mag-xl1': -0.044812060377644847}\n",
      "{'wearable-rss': -63.0, 'uid': u'a0:e6:f8:00:00:c1', 'wearable-xl1': array([-0.672, -0.48 ,  0.448]), 'aid': u'fd00::212:4b00:0:5', 'wearable-mag-xl1': -0.060485231622195323}\n",
      "{'aid': u'fd00::212:4b00:0:6', 'wearable-rss': -85.0, 'uid': u'a0:e6:f8:00:00:c1'}\n",
      "{'uid': u'a0:e6:f8:00:00:c0', 'wearable-mag-xl1': -0.02308239856168004, 'wearable-xl1': array([-0.768,  0.512,  0.32 ])}\n",
      "{'uid': u'a0:e6:f8:00:00:c0', 'wearable-mag-xl1': -0.039466814732567301, 'wearable-xl1': array([-0.768,  0.48 ,  0.32 ])}\n",
      "\n",
      "Acceleration data\n",
      "[-0.672 -0.48   0.48 ]\n",
      "[-0.672 -0.48   0.448]\n",
      "[-0.768  0.512  0.32 ]\n",
      "[-0.768  0.48   0.32 ]\n",
      "[-0.768  0.544  0.32 ]\n",
      "\n"
     ]
    }
   ],
   "source": [
    "sphere_tool.execute(\n",
    "    source=None, \n",
    "    sinks=[wearable], \n",
    "    splitting_stream=None, \n",
    "    input_plate_value=None,\n",
    "    output_plate=house_plate,\n",
    "    interval=ti\n",
    ")\n",
    "\n",
    "print(\"Raw wearable data\")\n",
    "for timestamp, value in wearable.window(ti).head(5):\n",
    "    print(value)\n",
    "print(\"\")\n",
    "    \n",
    "component_xl1.execute(\n",
    "    sources=[wearable],\n",
    "    sink=wearable_xl1,\n",
    "    interval=ti,\n",
    "    alignment_stream=None\n",
    ")\n",
    "\n",
    "print(\"Acceleration data\")\n",
    "for timestamp, value in wearable_xl1.window(ti).head(5):\n",
    "    print(value)\n",
    "print(\"\")"
   ]
  },
  {
   "cell_type": "markdown",
   "metadata": {
    "deletable": true,
    "editable": true
   },
   "source": [
    "## Purge the arm angle and inactivity streams (in case the function has changed since we last pulled the data)"
   ]
  },
  {
   "cell_type": "code",
   "execution_count": 9,
   "metadata": {
    "collapsed": false,
    "deletable": true,
    "editable": true
   },
   "outputs": [],
   "source": [
    "M.data[arm_angle.stream_id] = StreamInstanceCollection()\n",
    "arm_angle.calculated_intervals = None\n",
    "\n",
    "M.data[inactivity.stream_id] = StreamInstanceCollection()\n",
    "inactivity.calculated_intervals = None"
   ]
  },
  {
   "cell_type": "markdown",
   "metadata": {
    "deletable": true,
    "editable": true
   },
   "source": [
    "## Compute the arm angle and inactivity predictions"
   ]
  },
  {
   "cell_type": "code",
   "execution_count": 10,
   "metadata": {
    "collapsed": false,
    "deletable": true,
    "editable": true
   },
   "outputs": [
    {
     "name": "stdout",
     "output_type": "stream",
     "text": [
      "Arm angle\n",
      "26.0561148631\n",
      "25.82200807\n",
      "26.0375390115\n",
      "24.664492562\n",
      "26.14274809\n",
      "\n",
      "Inactivity predictions\n",
      "2017-04-25 22:40:00+00:00    False\n",
      "2017-04-25 22:45:00+00:00    False\n",
      "2017-04-25 22:50:00+00:00    True\n",
      "2017-04-25 22:55:00+00:00    True\n",
      "\n"
     ]
    }
   ],
   "source": [
    "sliding_window_5.execute(sources=None, sink=window_5, alignment_stream=None, interval=ti)\n",
    "sliding_apply_arm.execute(\n",
    "    sources=[window_5, wearable_xl1], \n",
    "    sink=arm_angle, \n",
    "    alignment_stream=None, \n",
    "    interval=ti)\n",
    "\n",
    "print(\"Arm angle\")\n",
    "for timestamp, value in arm_angle.window(ti).head(5):\n",
    "    print(value)\n",
    "print(\"\")\n",
    "    \n",
    "sliding_window_300.execute(sources=None, sink=window_300, alignment_stream=None, interval=ti)\n",
    "sliding_apply_inact.execute(\n",
    "    sources=[window_300, arm_angle], \n",
    "    sink=inactivity, \n",
    "    alignment_stream=None, \n",
    "    interval=ti)\n",
    "\n",
    "print(\"Inactivity predictions\")\n",
    "for timestamp, value in inactivity.window(ti).head(5):\n",
    "    print(\"{}    {}\".format(timestamp, value))\n",
    "print(\"\")"
   ]
  },
  {
   "cell_type": "markdown",
   "metadata": {
    "deletable": true,
    "editable": true
   },
   "source": [
    "# Put this all together as a workflow"
   ]
  },
  {
   "cell_type": "code",
   "execution_count": 12,
   "metadata": {
    "collapsed": false,
    "deletable": true,
    "editable": true
   },
   "outputs": [],
   "source": [
    "w = hs.create_workflow(\n",
    "    workflow_id=\"sleep_detector\",\n",
    "    name=\"Sleep detector (van Hees)\", \n",
    "    description=\"Sleep detection using the van Hees algorithm. See https://doi.org/10.1371/journal.pone.0142533.g001\",\n",
    "    owner=\"WP5\",\n",
    "    online=False,\n",
    "    monitor=False\n",
    ")"
   ]
  },
  {
   "cell_type": "markdown",
   "metadata": {
    "deletable": true,
    "editable": true
   },
   "source": [
    "## First create the nodes: these correspond to the streams above. We'll place these in a dictionary for ease of use"
   ]
  },
  {
   "cell_type": "code",
   "execution_count": 13,
   "metadata": {
    "collapsed": false,
    "deletable": true,
    "editable": true
   },
   "outputs": [],
   "source": [
    "from collections import namedtuple\n",
    "NodeDef = namedtuple('NodeDef', ['channel', 'stream_name', 'plate_ids'], verbose=False)\n",
    "\n",
    "nodes = (\n",
    "    NodeDef(S, \"wearable\",     [\"H\"]),\n",
    "    NodeDef(M, \"wearable_xl1\", [\"H\"]),\n",
    "    NodeDef(M, \"window_5\",     []),\n",
    "    NodeDef(M, \"window_300\",   []),\n",
    "    NodeDef(M, \"arm_angle\",    [\"H\"]),\n",
    "    NodeDef(M, \"inactivity\",   [\"H\"])\n",
    ")\n",
    "\n",
    "# Simple object to hold nodes\n",
    "class NodeCollection(object): \n",
    "    pass\n",
    "\n",
    "N = NodeCollection()\n",
    "\n",
    "for n in nodes:\n",
    "    setattr(N, n.stream_name, w.create_node(channel=n.channel, stream_name=n.stream_name, plate_ids=n.plate_ids))"
   ]
  },
  {
   "cell_type": "markdown",
   "metadata": {
    "deletable": true,
    "editable": true
   },
   "source": [
    "## Next create the factors: these use the tools defined above"
   ]
  },
  {
   "cell_type": "code",
   "execution_count": 14,
   "metadata": {
    "collapsed": false,
    "deletable": true,
    "editable": true
   },
   "outputs": [
    {
     "data": {
      "text/plain": [
       "Factor(alignment_node=None, plates=[Plate(meta_data_id=u'house', plate_id=u'H')], sink=Node(node_id='inactivity', plates=[Plate(meta_data_id=u'house', plate_id=u'H')]), sources=[Node(node_id='window_300', plates=[]), Node(node_id='arm_angle', plates=[Plate(meta_data_id=u'house', plate_id=u'H')])], tool=SlidingApply(func=<function inactivity_detector at 0x102afc7d0>))"
      ]
     },
     "execution_count": 14,
     "metadata": {},
     "output_type": "execute_result"
    }
   ],
   "source": [
    "w.create_multi_output_factor(tool=sphere_tool, source=None, sink=N.wearable, splitting_node=None)\n",
    "w.create_factor(tool=component_xl1, sources=[N.wearable], sink=N.wearable_xl1)\n",
    "w.create_factor(tool=sliding_window_5, sources=[], sink=N.window_5)\n",
    "w.create_factor(tool=sliding_window_300, sources=[], sink=N.window_300)\n",
    "w.create_factor(tool=sliding_apply_arm, sources=[N.window_5, N.wearable_xl1], sink=N.arm_angle)\n",
    "w.create_factor(tool=sliding_apply_inact, sources=[N.window_300, N.arm_angle], sink=N.inactivity)"
   ]
  },
  {
   "cell_type": "markdown",
   "metadata": {
    "collapsed": true,
    "deletable": true,
    "editable": true
   },
   "source": [
    "## Finally execute the workflow and examine the results"
   ]
  },
  {
   "cell_type": "code",
   "execution_count": 15,
   "metadata": {
    "collapsed": false,
    "deletable": true,
    "editable": true
   },
   "outputs": [
    {
     "name": "stdout",
     "output_type": "stream",
     "text": [
      "Inactivity predictions\n",
      "2017-04-25 22:40:00+00:00    False\n",
      "2017-04-25 22:45:00+00:00    False\n",
      "2017-04-25 22:50:00+00:00    True\n",
      "2017-04-25 22:55:00+00:00    True\n",
      "\n"
     ]
    }
   ],
   "source": [
    "w.execute(ti)\n",
    "print(\"Inactivity predictions\")\n",
    "for timestamp, value in N.inactivity.streams[house_1].window(ti).head(5):\n",
    "    print(\"{}    {}\".format(timestamp, value))\n",
    "print(\"\")"
   ]
  },
  {
   "cell_type": "code",
   "execution_count": null,
   "metadata": {
    "collapsed": true,
    "deletable": true,
    "editable": true
   },
   "outputs": [],
   "source": []
  },
  {
   "cell_type": "code",
   "execution_count": null,
   "metadata": {
    "collapsed": true,
    "deletable": true,
    "editable": true
   },
   "outputs": [],
   "source": []
  },
  {
   "cell_type": "code",
   "execution_count": null,
   "metadata": {
    "collapsed": true,
    "deletable": true,
    "editable": true
   },
   "outputs": [],
   "source": []
  },
  {
   "cell_type": "code",
   "execution_count": null,
   "metadata": {
    "collapsed": true,
    "deletable": true,
    "editable": true
   },
   "outputs": [],
   "source": []
  },
  {
   "cell_type": "code",
   "execution_count": null,
   "metadata": {
    "collapsed": true,
    "deletable": true,
    "editable": true
   },
   "outputs": [],
   "source": []
  },
  {
   "cell_type": "code",
   "execution_count": null,
   "metadata": {
    "collapsed": true,
    "deletable": true,
    "editable": true
   },
   "outputs": [],
   "source": []
  }
 ],
 "metadata": {
  "kernelspec": {
   "display_name": "hyperstream_py2",
   "language": "python",
   "name": "hyperstream_py2"
  },
  "language_info": {
   "codemirror_mode": {
    "name": "ipython",
    "version": 2
   },
   "file_extension": ".py",
   "mimetype": "text/x-python",
   "name": "python",
   "nbconvert_exporter": "python",
   "pygments_lexer": "ipython2",
   "version": "2.7.13"
  }
 },
 "nbformat": 4,
 "nbformat_minor": 2
}
